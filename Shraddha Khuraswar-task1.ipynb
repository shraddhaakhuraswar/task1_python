{
 "cells": [
  {
   "cell_type": "code",
   "execution_count": 6,
   "id": "f76f5e0e-d474-4bf0-b799-e46fd49de277",
   "metadata": {},
   "outputs": [],
   "source": [
    "text = \"Hello, World!\"\n"
   ]
  },
  {
   "cell_type": "code",
   "execution_count": 1,
   "id": "882be5a4-ae4b-42b6-bd48-37eb0a467d3f",
   "metadata": {},
   "outputs": [],
   "source": [
    "words = [\"Hello\", \"World\"]\n"
   ]
  },
  {
   "cell_type": "markdown",
   "id": "ed1d5c5a-0ae4-465d-ad76-1e6c183cacc4",
   "metadata": {},
   "source": [
    "# 1. len()"
   ]
  },
  {
   "cell_type": "code",
   "execution_count": 8,
   "id": "8b36a066-bfc9-4500-980f-c0b0f5c59095",
   "metadata": {},
   "outputs": [
    {
     "name": "stdout",
     "output_type": "stream",
     "text": [
      "1. Length of text: 13\n"
     ]
    }
   ],
   "source": [
    "print(f\"1. Length of text: {len(text)}\")"
   ]
  },
  {
   "cell_type": "markdown",
   "id": "70eae8a3-854f-4587-8332-25d4e6083cd8",
   "metadata": {},
   "source": [
    "# 2. upper()"
   ]
  },
  {
   "cell_type": "code",
   "execution_count": 11,
   "id": "bf619d94-693a-4a93-9a5c-dc2985f8b3cc",
   "metadata": {},
   "outputs": [
    {
     "name": "stdout",
     "output_type": "stream",
     "text": [
      "2. Uppercase: HELLO, WORLD!\n"
     ]
    }
   ],
   "source": [
    "print(f\"2. Uppercase: {text.upper()}\")"
   ]
  },
  {
   "cell_type": "markdown",
   "id": "87308f8a-bde3-4962-9c4b-fd1a35301a15",
   "metadata": {},
   "source": [
    "# 3. lower()"
   ]
  },
  {
   "cell_type": "code",
   "execution_count": 14,
   "id": "047e7139-70ee-4819-b82f-e8f8b5367d8d",
   "metadata": {},
   "outputs": [
    {
     "name": "stdout",
     "output_type": "stream",
     "text": [
      "3.Lowercase:hello, world!\n"
     ]
    }
   ],
   "source": [
    "print(f\"3.Lowercase:{text.lower()}\")"
   ]
  },
  {
   "cell_type": "markdown",
   "id": "f03ada3f-3b36-490b-ba2b-d8ca1449e410",
   "metadata": {},
   "source": [
    "# 4. replace()"
   ]
  },
  {
   "cell_type": "code",
   "execution_count": 17,
   "id": "12b81934-c748-418a-ae6f-f3dc613cbc87",
   "metadata": {},
   "outputs": [
    {
     "name": "stdout",
     "output_type": "stream",
     "text": [
      "4. Replace 'World' with 'Python': Hello, Python!\n"
     ]
    }
   ],
   "source": [
    "print(f\"4. Replace 'World' with 'Python': {text.replace('World', 'Python')}\") "
   ]
  },
  {
   "cell_type": "markdown",
   "id": "017a14a8-edf1-4416-b789-faacdaee04a6",
   "metadata": {},
   "source": [
    "# 5. split()"
   ]
  },
  {
   "cell_type": "code",
   "execution_count": 20,
   "id": "ddd97100-469c-4664-aa46-55216a088ffd",
   "metadata": {},
   "outputs": [
    {
     "name": "stdout",
     "output_type": "stream",
     "text": [
      "5. Split into words: ['Hello,', 'World!']\n"
     ]
    }
   ],
   "source": [
    "print(f\"5. Split into words: {text.split()}\") "
   ]
  },
  {
   "cell_type": "markdown",
   "id": "2ccd5e9a-bfea-49d2-995a-ec09dab414b2",
   "metadata": {},
   "source": [
    "# 6. join()"
   ]
  },
  {
   "cell_type": "code",
   "execution_count": 23,
   "id": "e158afeb-58b6-453a-9ba4-9bb878fa3d5f",
   "metadata": {},
   "outputs": [
    {
     "name": "stdout",
     "output_type": "stream",
     "text": [
      "6. Join words: Hello World\n"
     ]
    }
   ],
   "source": [
    "print(f\"6. Join words: {' '.join(words)}\")"
   ]
  },
  {
   "cell_type": "markdown",
   "id": "00ba9883-ffe7-40e3-8f2a-84dbfbb69a49",
   "metadata": {},
   "source": [
    "# 7. find()"
   ]
  },
  {
   "cell_type": "code",
   "execution_count": 26,
   "id": "2fcb3e10-7f74-41b0-8417-8c41d5b0f329",
   "metadata": {},
   "outputs": [
    {
     "name": "stdout",
     "output_type": "stream",
     "text": [
      "7. Find 'World': 7\n"
     ]
    }
   ],
   "source": [
    "print(f\"7. Find 'World': {text.find('World')}\")"
   ]
  },
  {
   "cell_type": "markdown",
   "id": "630aae8b-70b7-4d85-ac54-cafdf90b9b1b",
   "metadata": {},
   "source": [
    "# 8. startswith()"
   ]
  },
  {
   "cell_type": "code",
   "execution_count": 29,
   "id": "c90e5cdc-fcdb-4c65-9efc-1e075e4a282b",
   "metadata": {},
   "outputs": [
    {
     "name": "stdout",
     "output_type": "stream",
     "text": [
      "8. Starts with 'Hello': True\n"
     ]
    }
   ],
   "source": [
    "print(f\"8. Starts with 'Hello': {text.startswith('Hello')}\")"
   ]
  },
  {
   "cell_type": "markdown",
   "id": "13544e06-0aa8-4d54-9cc4-ad3b081feeb2",
   "metadata": {},
   "source": [
    "# 9. endswith()"
   ]
  },
  {
   "cell_type": "code",
   "execution_count": 32,
   "id": "716f359f-d3c3-46b7-a33b-fbe5770de1fd",
   "metadata": {},
   "outputs": [
    {
     "name": "stdout",
     "output_type": "stream",
     "text": [
      "9. Ends with 'World!': True\n"
     ]
    }
   ],
   "source": [
    "print(f\"9. Ends with 'World!': {text.endswith('World!')}\")"
   ]
  },
  {
   "cell_type": "markdown",
   "id": "bdd252c4-75a3-4962-9a40-44042fc48b98",
   "metadata": {},
   "source": [
    "# 10. strip()\n"
   ]
  },
  {
   "cell_type": "code",
   "execution_count": 39,
   "id": "86e9a0e9-10a1-4fe2-8562-b2658b512025",
   "metadata": {},
   "outputs": [],
   "source": [
    "text_with_spaces = \"  Hello, World!  \""
   ]
  },
  {
   "cell_type": "code",
   "execution_count": 41,
   "id": "031e86d1-661d-4f6f-abaf-8e41098e9dbf",
   "metadata": {},
   "outputs": [
    {
     "name": "stdout",
     "output_type": "stream",
     "text": [
      "10. Strip spaces: 'Hello, World!'\n"
     ]
    }
   ],
   "source": [
    "print(f\"10. Strip spaces: '{text_with_spaces.strip()}'\")"
   ]
  },
  {
   "cell_type": "markdown",
   "id": "14458ef2-2f55-40e4-8008-533eb6d8ed63",
   "metadata": {},
   "source": [
    "# 11. title()"
   ]
  },
  {
   "cell_type": "code",
   "execution_count": 44,
   "id": "bb8d642f-4aeb-4186-bb9b-e3929a87a9e4",
   "metadata": {},
   "outputs": [
    {
     "name": "stdout",
     "output_type": "stream",
     "text": [
      "11. Title case: Hello, World!\n"
     ]
    }
   ],
   "source": [
    "print(f\"11. Title case: {text.lower().title()}\") "
   ]
  },
  {
   "cell_type": "markdown",
   "id": "ae55d3d3-66eb-459f-9440-a12d1d167ba9",
   "metadata": {},
   "source": [
    "# 12. capitalize()"
   ]
  },
  {
   "cell_type": "code",
   "execution_count": 47,
   "id": "84f54ad7-80b8-497b-a80a-75c08cb5fce2",
   "metadata": {},
   "outputs": [
    {
     "name": "stdout",
     "output_type": "stream",
     "text": [
      "12. Capitalize: Hello, world!\n"
     ]
    }
   ],
   "source": [
    "print(f\"12. Capitalize: {text.lower().capitalize()}\")"
   ]
  },
  {
   "cell_type": "markdown",
   "id": "762515fb-53d8-4fa2-99be-88eedcd10f7e",
   "metadata": {},
   "source": [
    "# 13. isalpha()"
   ]
  },
  {
   "cell_type": "code",
   "execution_count": 50,
   "id": "bd5e4576-9bf5-4555-82fe-207c38566984",
   "metadata": {},
   "outputs": [],
   "source": [
    "alpha_text = \"HelloWorld\""
   ]
  },
  {
   "cell_type": "code",
   "execution_count": 52,
   "id": "003a8288-c3bd-445f-aef0-ab661f2eb337",
   "metadata": {},
   "outputs": [
    {
     "name": "stdout",
     "output_type": "stream",
     "text": [
      "13. Is alpha: True\n"
     ]
    }
   ],
   "source": [
    "print(f\"13. Is alpha: {alpha_text.isalpha()}\") "
   ]
  },
  {
   "cell_type": "markdown",
   "id": "5a3a3cf8-9bd3-4066-b19b-8b320f58668d",
   "metadata": {},
   "source": [
    "# 14. isdigit()"
   ]
  },
  {
   "cell_type": "code",
   "execution_count": 55,
   "id": "bf3170a8-6a84-45d9-8b06-c15fb5620b71",
   "metadata": {},
   "outputs": [],
   "source": [
    "digit_text = \"12345\""
   ]
  },
  {
   "cell_type": "code",
   "execution_count": 57,
   "id": "00b813c8-d8eb-405f-8f87-68e099140107",
   "metadata": {},
   "outputs": [
    {
     "name": "stdout",
     "output_type": "stream",
     "text": [
      "14. Is digit: True\n"
     ]
    }
   ],
   "source": [
    "print(f\"14. Is digit: {digit_text.isdigit()}\")"
   ]
  },
  {
   "cell_type": "markdown",
   "id": "de35b0bf-1365-4b19-b33d-eb6efd209068",
   "metadata": {},
   "source": [
    "# 15. count()"
   ]
  },
  {
   "cell_type": "code",
   "execution_count": 60,
   "id": "aba9b018-5747-4eb2-aa7f-e1aa44568c30",
   "metadata": {},
   "outputs": [
    {
     "name": "stdout",
     "output_type": "stream",
     "text": [
      "15. Count 'Hello': 1\n"
     ]
    }
   ],
   "source": [
    "print(f\"15. Count 'Hello': {text.count('Hello')}\")"
   ]
  },
  {
   "cell_type": "markdown",
   "id": "fb8fa654-aae9-4d62-ae6a-f3968c1519d8",
   "metadata": {},
   "source": [
    "# 16. swapcase()"
   ]
  },
  {
   "cell_type": "code",
   "execution_count": 63,
   "id": "3d0fcf39-c4de-471c-848f-a5da12613368",
   "metadata": {},
   "outputs": [
    {
     "name": "stdout",
     "output_type": "stream",
     "text": [
      "16. Swap case: hELLO, wORLD!\n"
     ]
    }
   ],
   "source": [
    "print(f\"16. Swap case: {text.swapcase()}\") "
   ]
  },
  {
   "cell_type": "markdown",
   "id": "becb2b4c-46b4-428c-b805-dbec79dfaae0",
   "metadata": {},
   "source": [
    "# 17. zfill()"
   ]
  },
  {
   "cell_type": "code",
   "execution_count": 66,
   "id": "5856343f-dfbf-4a72-9a0d-e0f3f623782d",
   "metadata": {},
   "outputs": [],
   "source": [
    "number = \"42\""
   ]
  },
  {
   "cell_type": "code",
   "execution_count": 68,
   "id": "686941a4-f96c-48f2-bed0-427bec95dc23",
   "metadata": {},
   "outputs": [
    {
     "name": "stdout",
     "output_type": "stream",
     "text": [
      "17. Zero fill (width 5): 00042\n"
     ]
    }
   ],
   "source": [
    "print(f\"17. Zero fill (width 5): {number.zfill(5)}\") "
   ]
  },
  {
   "cell_type": "markdown",
   "id": "ac42dbf7-6e34-4b7a-9ece-2dff94230ec8",
   "metadata": {},
   "source": [
    "\n",
    "# 18. rfind()"
   ]
  },
  {
   "cell_type": "code",
   "execution_count": 71,
   "id": "cca18781-dfcb-4d50-98d1-a04772474a7d",
   "metadata": {},
   "outputs": [],
   "source": [
    "text2 = \"Hello, World! Hello again!\""
   ]
  },
  {
   "cell_type": "code",
   "execution_count": 73,
   "id": "f0cadea5-5340-4b35-88a5-dd3a6a6e106e",
   "metadata": {},
   "outputs": [
    {
     "name": "stdout",
     "output_type": "stream",
     "text": [
      "18. Last find 'Hello': 14\n"
     ]
    }
   ],
   "source": [
    "print(f\"18. Last find 'Hello': {text2.rfind('Hello')}\") "
   ]
  },
  {
   "cell_type": "markdown",
   "id": "ea9dbd9d-238e-4c49-87e2-da169bc02130",
   "metadata": {},
   "source": [
    "# 19. rjust()"
   ]
  },
  {
   "cell_type": "code",
   "execution_count": 76,
   "id": "809da84b-ef11-41db-8888-4354c64bb5a9",
   "metadata": {},
   "outputs": [
    {
     "name": "stdout",
     "output_type": "stream",
     "text": [
      "19. Right justify (width 10): 'Hello, World!'\n"
     ]
    }
   ],
   "source": [
    "print(f\"19. Right justify (width 10): '{text.rjust(10)}'\") "
   ]
  },
  {
   "cell_type": "markdown",
   "id": "8408f234-4882-498d-9917-148a32190bae",
   "metadata": {},
   "source": [
    "# 20. center()"
   ]
  },
  {
   "cell_type": "code",
   "execution_count": 79,
   "id": "25b7481d-1f1f-46cc-80a9-a94fc2f6a5e1",
   "metadata": {},
   "outputs": [
    {
     "name": "stdout",
     "output_type": "stream",
     "text": [
      "20. Center (width 10): 'Hello, World!'\n"
     ]
    }
   ],
   "source": [
    "print(f\"20. Center (width 10): '{text.center(10)}'\")"
   ]
  },
  {
   "cell_type": "code",
   "execution_count": null,
   "id": "e8504fb4-28a5-4e56-9159-97d716892dde",
   "metadata": {},
   "outputs": [],
   "source": []
  },
  {
   "cell_type": "code",
   "execution_count": null,
   "id": "e75022c8-e976-42a6-8844-290429f07622",
   "metadata": {},
   "outputs": [],
   "source": []
  }
 ],
 "metadata": {
  "kernelspec": {
   "display_name": "Python 3 (ipykernel)",
   "language": "python",
   "name": "python3"
  },
  "language_info": {
   "codemirror_mode": {
    "name": "ipython",
    "version": 3
   },
   "file_extension": ".py",
   "mimetype": "text/x-python",
   "name": "python",
   "nbconvert_exporter": "python",
   "pygments_lexer": "ipython3",
   "version": "3.12.4"
  }
 },
 "nbformat": 4,
 "nbformat_minor": 5
}
